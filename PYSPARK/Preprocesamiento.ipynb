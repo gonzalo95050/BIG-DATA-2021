{
 "cells": [
  {
   "cell_type": "markdown",
   "metadata": {},
   "source": [
    "# Algoritmos para Preprocesamiento"
   ]
  },
  {
   "cell_type": "markdown",
   "metadata": {},
   "source": [
    "## Llamada a PYSPARK"
   ]
  },
  {
   "cell_type": "code",
   "execution_count": 58,
   "metadata": {},
   "outputs": [],
   "source": [
    "import findspark\n",
    "findspark.init()\n",
    "import pyspark\n",
    "from pyspark.sql import SparkSession\n",
    "from pyspark import SparkContext\n",
    "spark = SparkSession.builder.getOrCreate()\n",
    "sc = SparkContext.getOrCreate()\n",
    "import math\n"
   ]
  },
  {
   "cell_type": "markdown",
   "metadata": {},
   "source": [
    "## 1. Normalización"
   ]
  },
  {
   "cell_type": "code",
   "execution_count": 59,
   "metadata": {},
   "outputs": [],
   "source": [
    "def nor(x):\n",
    "    \"\"\"Normalizacion los elementos de un RDD\n",
    "    Args:\n",
    "        X (RDD):arreglo numeros\n",
    "    Returns:\n",
    "        RDD: normalizado\n",
    "    \"\"\"\n",
    "    xRDD = sc.parallelize(x, 5)\n",
    "    listaCuadrada=xRDD.map(lambda xi:xi*xi)\n",
    "    total=listaCuadrada.sum()\n",
    "    val=math.sqrt(total)\n",
    "    #escalonamos cada elemento com map\n",
    "    normalizado= xRDD.map(lambda xi :(xi/val))\n",
    "    return normalizado"
   ]
  },
  {
   "cell_type": "markdown",
   "metadata": {},
   "source": [
    "Calculamos normalizacion"
   ]
  },
  {
   "cell_type": "code",
   "execution_count": 60,
   "metadata": {},
   "outputs": [],
   "source": [
    "Array=[12,6,87,45,121,6148]\n",
    "Array_normalizado=nor(Array).collect()"
   ]
  },
  {
   "cell_type": "markdown",
   "metadata": {},
   "source": [
    "Imprimimos resultados"
   ]
  },
  {
   "cell_type": "code",
   "execution_count": 61,
   "metadata": {},
   "outputs": [
    {
     "name": "stdout",
     "output_type": "stream",
     "text": [
      "Arreglo inicial\n",
      "[12, 6, 87, 45, 121, 6148]\n",
      "Arreglo Normalizado\n",
      "[0.0019512241810033615, 0.0009756120905016807, 0.01414637531227437, 0.007317090678762605, 0.01967484382511723, 0.9996771887340555]\n"
     ]
    }
   ],
   "source": [
    "print(\"Arreglo inicial\")\n",
    "print(Array)\n",
    "print(\"Arreglo Normalizado\")\n",
    "print(Array_normalizado)"
   ]
  },
  {
   "cell_type": "markdown",
   "metadata": {},
   "source": [
    "# 2. Estandarizacion"
   ]
  },
  {
   "cell_type": "code",
   "execution_count": 62,
   "metadata": {},
   "outputs": [],
   "source": [
    "def estandarizacion(x):\n",
    "    \"\"\"\n",
    "    Estandariza los elementos de un arreglo\n",
    "    Args:\n",
    "        x (RDD): arreglo de números\n",
    "        \n",
    "    Returns:\n",
    "        RDD : estandarizado\n",
    "    \"\"\"\n",
    "    xRDD = sc.parallelize(x, 5)\n",
    "    # obtenemos la media\n",
    "    media = xRDD.mean()\n",
    "    # obtenemos desviacion estandar\n",
    "    desv = xRDD.stdev()\n",
    "    # Estandarizamos con.map\n",
    "    estandarizado = xRDD.map(lambda x : (x-media)/desv)\n",
    "    return estandarizado"
   ]
  },
  {
   "cell_type": "markdown",
   "metadata": {},
   "source": [
    "Calculamos estandarizacion"
   ]
  },
  {
   "cell_type": "code",
   "execution_count": 63,
   "metadata": {},
   "outputs": [],
   "source": [
    "Array=[12,6,87,45,121,6148]\n",
    "Array_estandarizado=estandarizacion(Array).collect()"
   ]
  },
  {
   "cell_type": "markdown",
   "metadata": {},
   "source": [
    "Imprimimos resultados"
   ]
  },
  {
   "cell_type": "code",
   "execution_count": 64,
   "metadata": {},
   "outputs": [
    {
     "name": "stdout",
     "output_type": "stream",
     "text": [
      "Arreglo inicial\n",
      "[12, 6, 87, 45, 121, 6148]\n",
      "Arreglo Estandarizado\n",
      "[-0.46572232429077726, -0.4683638878128299, -0.4327027802651195, -0.45119372491948784, -0.4177339203068213, 2.235716637595036]\n"
     ]
    }
   ],
   "source": [
    "print(\"Arreglo inicial\")\n",
    "print(Array)\n",
    "print(\"Arreglo Estandarizado\")\n",
    "print(Array_estandarizado)"
   ]
  },
  {
   "cell_type": "markdown",
   "metadata": {},
   "source": [
    "# 3. Escalonamiento"
   ]
  },
  {
   "cell_type": "code",
   "execution_count": 65,
   "metadata": {},
   "outputs": [],
   "source": [
    "def escalonamiento(x):\n",
    "    \"\"\"Escalonar los elementos de un RDD\n",
    "    \n",
    "    Args:\n",
    "        X (RDD numeric):array RDD numeric\n",
    "    Returns:\n",
    "        RDD: Vector escalonado\n",
    "    \"\"\"\n",
    "    xRDD = sc.parallelize(x, 5)\n",
    "    # obtenemos minimo\n",
    "    min = xRDD.min()\n",
    "    # obtenemos maximo\n",
    "    max = xRDD.max()\n",
    "    #escalonamos com .map\n",
    "    lista= xRDD.map(lambda x : (x-min)/(max-min))\n",
    "    return lista\n",
    "\n"
   ]
  },
  {
   "cell_type": "markdown",
   "metadata": {},
   "source": [
    "Calculamos escalonamiento"
   ]
  },
  {
   "cell_type": "code",
   "execution_count": 66,
   "metadata": {},
   "outputs": [],
   "source": [
    "Array=[12,6,87,45,121,6148]\n",
    "array_escalonado = escalonamiento(Array).collect()"
   ]
  },
  {
   "cell_type": "markdown",
   "metadata": {},
   "source": [
    "Imprimimos resultados"
   ]
  },
  {
   "cell_type": "code",
   "execution_count": 67,
   "metadata": {},
   "outputs": [
    {
     "name": "stdout",
     "output_type": "stream",
     "text": [
      "Array inicial\n",
      "[12, 6, 87, 45, 121, 6148]\n",
      "Array escalonado\n",
      "[0.0009768804949527841, 0.0, 0.013187886681862585, 0.006349723217193097, 0.01872354281992836, 1.0]\n"
     ]
    }
   ],
   "source": [
    "print(\"Array inicial\")\n",
    "print(Array)\n",
    "print(\"Array escalonado\")\n",
    "print (array_escalonado)"
   ]
  },
  {
   "cell_type": "markdown",
   "metadata": {},
   "source": [
    "# 4. TF"
   ]
  },
  {
   "cell_type": "code",
   "execution_count": 68,
   "metadata": {},
   "outputs": [],
   "source": [
    "\n",
    "def tf(data):\n",
    "    \"\"\"\n",
    "    Determinar la frecuencia de términos de un documentos (TF)\n",
    "\n",
    "    Args:\n",
    "        doc (str): Un string.\n",
    "\n",
    "    Returns:\n",
    "        RDD: (palabra, frecuencia).\n",
    "    \"\"\"\n",
    "    Doc = data.split()\n",
    "    cantidad = len(Doc)\n",
    "    # Volvemos este arreglo de tuplas en un RDD de 2 particiones\n",
    "    terminosRDD = sc.parallelize(Doc,2)\n",
    "    # calculamos ocurrencia de terminos en base a los que los contengan\n",
    "    tfRDD = (terminosRDD.map(lambda x: (x,1))\n",
    "           .reduceByKey(lambda x,y: x+y).map(lambda x: (x[0],1+math.log10(x[1]/cantidad))))\n",
    "    return tfRDD.collect()"
   ]
  },
  {
   "cell_type": "markdown",
   "metadata": {},
   "source": [
    "Realziamos prueba y mostramos resultados"
   ]
  },
  {
   "cell_type": "code",
   "execution_count": 69,
   "metadata": {},
   "outputs": [
    {
     "name": "stdout",
     "output_type": "stream",
     "text": [
      "=========== TEST TF =============\n",
      "[('music', 0.1549019599857432), ('library', -0.14612803567823796), ('sync', 0.1549019599857432), ('new', 0.1549019599857432), ('itunes', -0.14612803567823796), ('tell', -0.14612803567823796), ('uploaded', -0.14612803567823796), ('fix', -0.14612803567823796), ('etc', -0.14612803567823796), ('complete', -0.14612803567823796), ('frustrating', -0.14612803567823796)]\n",
      "=================================\n",
      "[('make', -0.07918124604762489), ('genius', -0.07918124604762489), ('say', -0.07918124604762489), ('electrical', -0.07918124604762489), ('wonder', -0.07918124604762489), ('jony', -0.07918124604762489), ('think', -0.07918124604762489), ('apple', -0.07918124604762489), ('bad', -0.07918124604762489), ('charger', -0.07918124604762489), ('wrap', -0.07918124604762489), ('tape', -0.07918124604762489)]\n",
      "=================================\n",
      "[('delete', 0.22184874961635637), ('music', 0.22184874961635637), ('customer', 0.22184874961635637), ('tell', 0.22184874961635637), ('amp', 0.22184874961635637), ('ipod', 0.22184874961635637)]\n",
      "=================================\n",
      "[('inc', 0.04575749056067513), ('aapl', 0.04575749056067513), ('price', 0.04575749056067513), ('estimate', 0.04575749056067513), ('bmo', 0.04575749056067513), ('apple', 0.04575749056067513), ('target', 0.04575749056067513), ('eps', 0.04575749056067513), ('raise', 0.04575749056067513)]\n"
     ]
    }
   ],
   "source": [
    "# Pruebas tomando algunos ejemplos de twitts.txt\n",
    "oracion1=\"music library sync new music etc itunes tell sync complete new uploaded fix frustrating\"\n",
    "oracion2=\"apple make bad charger genius say wrap electrical tape wonder jony think\"\n",
    "oracion3=\"amp delete music customer ipod tell\"\n",
    "oracion4=\"apple inc aapl price target eps estimate raise bmo\"\n",
    "\n",
    "print(\"=========== TEST TF =============\")\n",
    "print(tf(oracion1))\n",
    "print(\"=================================\")\n",
    "print(tf(oracion2))\n",
    "print(\"=================================\")\n",
    "print(tf(oracion3))\n",
    "print(\"=================================\")\n",
    "print(tf(oracion4))"
   ]
  },
  {
   "cell_type": "markdown",
   "metadata": {},
   "source": [
    "# 5. IDF"
   ]
  },
  {
   "cell_type": "code",
   "execution_count": 70,
   "metadata": {},
   "outputs": [],
   "source": [
    "def idf(data):\n",
    "    \"\"\"\n",
    "    Determinar la frecuencia inversa de documento (IDF)\n",
    "    \n",
    "    Args:\n",
    "        data (List of str): Una lista compuesta por strings.\n",
    "    \n",
    "    Returns:\n",
    "        RDD:(palabra, frecuencia inversa)\n",
    "    \"\"\"\n",
    "    cantidad = len(data)\n",
    "    # Volvemos este arreglo de tuplas en un RDD de 2 particiones\n",
    "    corpusRDD = sc.parallelize(data,2)\n",
    "    # calculamos numero de documentos donde aparece terminos en base a la cantidad documentos\n",
    "    idfRDD = (corpusRDD.flatMap(lambda x: list(set(x.split(\" \")))).map(lambda x:(x,1))\n",
    "            .reduceByKey(lambda x,y:x+y).map(lambda x: (x[0],math.log10(1+cantidad/x[1]))))\n",
    "    return (idfRDD)"
   ]
  },
  {
   "cell_type": "markdown",
   "metadata": {},
   "source": [
    "Realziamos prueba y mostramos resultados"
   ]
  },
  {
   "cell_type": "code",
   "execution_count": 71,
   "metadata": {},
   "outputs": [
    {
     "name": "stdout",
     "output_type": "stream",
     "text": [
      "=========== TEST IDF =============\n",
      "[('new', 0.3010299956639812), ('itunes', 0.3010299956639812), ('sync', 0.3010299956639812), ('uploaded', 0.3010299956639812), ('music', 0.3010299956639812), ('tell', 0.3010299956639812), ('library', 0.3010299956639812), ('fix', 0.3010299956639812), ('etc', 0.3010299956639812), ('frustrating', 0.3010299956639812), ('complete', 0.3010299956639812)]\n",
      "=================================\n",
      "[('electrical', 0.3010299956639812), ('wonder', 0.3010299956639812), ('think', 0.3010299956639812), ('genius', 0.3010299956639812), ('make', 0.3010299956639812), ('jony', 0.3010299956639812), ('say', 0.3010299956639812), ('tape', 0.3010299956639812), ('charger', 0.3010299956639812), ('bad', 0.3010299956639812), ('wrap', 0.3010299956639812), ('apple', 0.3010299956639812)]\n",
      "=================================\n",
      "[('customer', 0.3010299956639812), ('delete', 0.3010299956639812), ('music', 0.3010299956639812), ('tell', 0.3010299956639812), ('amp', 0.3010299956639812), ('ipod', 0.3010299956639812)]\n",
      "=================================\n",
      "[('bmo', 0.3010299956639812), ('aapl', 0.3010299956639812), ('price', 0.3010299956639812), ('inc', 0.3010299956639812), ('estimate', 0.3010299956639812), ('raise', 0.3010299956639812), ('target', 0.3010299956639812), ('eps', 0.3010299956639812), ('apple', 0.3010299956639812)]\n"
     ]
    }
   ],
   "source": [
    "# Pruebas tomando algunos ejemplos de twitts.txt\n",
    "oracion1=\"music library sync new music etc itunes tell sync complete new uploaded fix frustrating\"\n",
    "oracion2=\"apple make bad charger genius say wrap electrical tape wonder jony think\"\n",
    "oracion3=\"amp delete music customer ipod tell\"\n",
    "oracion4=\"apple inc aapl price target eps estimate raise bmo\"\n",
    "\n",
    "print(\"=========== TEST IDF =============\")\n",
    "print(idf([oracion1]).collect())\n",
    "print(\"=================================\")\n",
    "print(idf([oracion2]).collect())\n",
    "print(\"=================================\")\n",
    "print(idf([oracion3]).collect())\n",
    "print(\"=================================\")\n",
    "print(idf([oracion4]).collect())"
   ]
  }
 ],
 "metadata": {
  "interpreter": {
   "hash": "ac59ebe37160ed0dfa835113d9b8498d9f09ceb179beaac4002f036b9467c963"
  },
  "kernelspec": {
   "display_name": "Python 3.9.5 64-bit",
   "language": "python",
   "name": "python3"
  },
  "language_info": {
   "codemirror_mode": {
    "name": "ipython",
    "version": 3
   },
   "file_extension": ".py",
   "mimetype": "text/x-python",
   "name": "python",
   "nbconvert_exporter": "python",
   "pygments_lexer": "ipython3",
   "version": "3.9.5"
  },
  "orig_nbformat": 4
 },
 "nbformat": 4,
 "nbformat_minor": 2
}
